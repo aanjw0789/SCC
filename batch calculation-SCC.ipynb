{
 "cells": [
  {
   "cell_type": "code",
   "execution_count": 1,
   "id": "90648641-2079-4224-b408-e07b392deb4e",
   "metadata": {},
   "outputs": [
    {
     "name": "stdout",
     "output_type": "stream",
     "text": [
      "Calculation complete. The output file is saved at: /Users/aj_wahyudi/Folder007/SCC/batch file test updated.xlsx\n"
     ]
    }
   ],
   "source": [
    "import pandas as pd\n",
    "import numpy as np\n",
    "\n",
    "# Define the function to calculate ABG, BGC, TC, CS, and TC-conversion\n",
    "def calculate_values(df):\n",
    "    df['ABG[gC/m2]'] = np.where(\n",
    "        (df['biomass[g/m2]'] == 0) & (df['density[shoots/m2]'] == 0) & (df['coverage[%]'] == 0), 0,\n",
    "        np.where((df['biomass[g/m2]'] > 0) & (df['density[shoots/m2]'] == 0) & (df['coverage[%]'] == 0), 12.63086 + 0.061001 * df['biomass[g/m2]'],\n",
    "        np.where((df['biomass[g/m2]'] > 0) & (df['density[shoots/m2]'] == 0) & (df['coverage[%]'] > 0), 14.26965 + 0.062445 * df['biomass[g/m2]'] - 0.044118 * df['coverage[%]'],\n",
    "        np.where((df['biomass[g/m2]'] > 0) & (df['density[shoots/m2]'] > 0) & (df['coverage[%]'] == 0), 12.63086 + 0.061001 * df['biomass[g/m2]'],\n",
    "        np.where((df['biomass[g/m2]'] == 0) & (df['density[shoots/m2]'] == 0) & (df['coverage[%]'] > 0), 21.33781 + 0.13514 * df['coverage[%]'],\n",
    "        np.where((df['biomass[g/m2]'] == 0) & (df['density[shoots/m2]'] > 0) & (df['coverage[%]'] > 0), 21.33781 + 0.13514 * df['coverage[%]'],\n",
    "        np.where((df['biomass[g/m2]'] == 0) & (df['density[shoots/m2]'] > 0) & (df['coverage[%]'] == 0), 29.609031 - 0.001435 * df['density[shoots/m2]'],\n",
    "        14.26965 + 0.062445 * df['biomass[g/m2]'] - 0.044118 * df['coverage[%]'])))))))\n",
    "\n",
    "    df['BGC[gC/m2]'] = np.where(\n",
    "        (df['biomass[g/m2]'] == 0) & (df['density[shoots/m2]'] == 0) & (df['coverage[%]'] == 0), 0,\n",
    "        np.where((df['biomass[g/m2]'] > 0) & (df['density[shoots/m2]'] == 0) & (df['coverage[%]'] == 0), 6.00388 + 0.214211 * df['biomass[g/m2]'],\n",
    "        np.where((df['biomass[g/m2]'] > 0) & (df['density[shoots/m2]'] == 0) & (df['coverage[%]'] > 0), -4.365552 + 0.21622 * df['biomass[g/m2]'] + 0.218579 * df['coverage[%]'],\n",
    "        np.where((df['biomass[g/m2]'] > 0) & (df['density[shoots/m2]'] > 0) & (df['coverage[%]'] == 0), 0.451447 + 0.216752 * df['biomass[g/m2]'] + 0.006902 * df['density[shoots/m2]'],\n",
    "        np.where((df['biomass[g/m2]'] == 0) & (df['density[shoots/m2]'] == 0) & (df['coverage[%]'] > 0), 53.2301 + 0.3055 * df['coverage[%]'],\n",
    "        np.where((df['biomass[g/m2]'] == 0) & (df['density[shoots/m2]'] > 0) & (df['coverage[%]'] > 0), 53.2301 + 0.3055 * df['coverage[%]'],\n",
    "        np.where((df['biomass[g/m2]'] == 0) & (df['density[shoots/m2]'] > 0) & (df['coverage[%]'] == 0), 65.28627 + 0.00201 * df['density[shoots/m2]'],\n",
    "        -3.942647 + 0.21748 * df['biomass[g/m2]'] + 0.006119 * df['density[shoots/m2]'] + 0.108165 * df['coverage[%]'])))))))\n",
    "\n",
    "    df['TC[gC/m2]'] = np.where(\n",
    "        (df['biomass[g/m2]'] == 0) & (df['density[shoots/m2]'] == 0) & (df['coverage[%]'] == 0), 0,\n",
    "        np.where((df['biomass[g/m2]'] > 0) & (df['density[shoots/m2]'] == 0) & (df['coverage[%]'] == 0), 10.232724 + 0.297451 * df['biomass[g/m2]'],\n",
    "        np.where((df['biomass[g/m2]'] > 0) & (df['density[shoots/m2]'] == 0) & (df['coverage[%]'] > 0), 6.862504 + 0.295653 * df['biomass[g/m2]'] + 0.080054 * df['coverage[%]'],\n",
    "        np.where((df['biomass[g/m2]'] > 0) & (df['density[shoots/m2]'] > 0) & (df['coverage[%]'] == 0), 7.426061 + 0.298152 * df['biomass[g/m2]'] + 0.003718 * df['density[shoots/m2]'],\n",
    "        np.where((df['biomass[g/m2]'] == 0) & (df['density[shoots/m2]'] == 0) & (df['coverage[%]'] > 0), 78.7965 + 0.4117 * df['coverage[%]'],\n",
    "        np.where((df['biomass[g/m2]'] == 0) & (df['density[shoots/m2]'] > 0) & (df['coverage[%]'] > 0), 78.7965 + 0.4117 * df['coverage[%]'],\n",
    "        np.where((df['biomass[g/m2]'] == 0) & (df['density[shoots/m2]'] > 0) & (df['coverage[%]'] == 0), 96.56068 + 0.001082 * df['density[shoots/m2]'],\n",
    "        6.874866 + 0.297085 * df['biomass[g/m2]'] + 0.003865 * df['density[shoots/m2]'] + 0.010671 * df['coverage[%]'])))))))\n",
    "\n",
    "    df['CS[tC/ha/yr]'] = np.where(\n",
    "        (df['biomass[g/m2]'] == 0) & (df['density[shoots/m2]'] == 0) & (df['coverage[%]'] == 0), 0,\n",
    "        np.where((df['biomass[g/m2]'] > 0) & (df['density[shoots/m2]'] == 0) & (df['coverage[%]'] == 0), 6.813338 + 0.001579 * df['biomass[g/m2]'],\n",
    "        np.where((df['biomass[g/m2]'] > 0) & (df['density[shoots/m2]'] == 0) & (df['coverage[%]'] > 0), 1.74315 + 0.08654 * df['coverage[%]'],\n",
    "        np.where((df['biomass[g/m2]'] > 0) & (df['density[shoots/m2]'] > 0) & (df['coverage[%]'] == 0), 6.813338 + 0.001579 * df['biomass[g/m2]'],\n",
    "        np.where((df['biomass[g/m2]'] == 0) & (df['density[shoots/m2]'] == 0) & (df['coverage[%]'] > 0), 1.74315 + 0.08654 * df['coverage[%]'],\n",
    "        np.where((df['biomass[g/m2]'] == 0) & (df['density[shoots/m2]'] > 0) & (df['coverage[%]'] > 0), 1.74315 + 0.08654 * df['coverage[%]'],\n",
    "        np.where((df['biomass[g/m2]'] == 0) & (df['density[shoots/m2]'] > 0) & (df['coverage[%]'] == 0), 6.659196 + 0.002178 * df['density[shoots/m2]'],\n",
    "        1.74315 + 0.08654 * df['coverage[%]'])))))))\n",
    "\n",
    "    df['TC-conversion[tC/ha]'] = df['TC[gC/m2]'] / 100\n",
    "\n",
    "    return df\n",
    "\n",
    "# Read the Excel file\n",
    "# input_file_path = 'path_to_your_input_file.xlsx'\n",
    "input_file_path = '/Users/aj_wahyudi/Folder007/SCC/batch file test.xlsx' #example of input file path; please adjust accordingly\n",
    "df = pd.read_excel(input_file_path)\n",
    "\n",
    "# Apply the function to calculate the values\n",
    "df = calculate_values(df)\n",
    "\n",
    "# Save the resulting DataFrame to a new Excel file\n",
    "# output_file_path = 'path_to_your_output_file.xlsx'\n",
    "output_file_path = '/Users/aj_wahyudi/Folder007/SCC/batch file test updated.xlsx' #example of output file path; please adjust accordingly\n",
    "df.to_excel(output_file_path, index=False)\n",
    "\n",
    "print(\"Calculation complete. The output file is saved at:\", output_file_path)\n"
   ]
  },
  {
   "cell_type": "code",
   "execution_count": null,
   "id": "18bce347-bcb7-4af1-926f-e7b3e13ada69",
   "metadata": {},
   "outputs": [],
   "source": []
  }
 ],
 "metadata": {
  "kernelspec": {
   "display_name": "Python 3 (ipykernel)",
   "language": "python",
   "name": "python3"
  },
  "language_info": {
   "codemirror_mode": {
    "name": "ipython",
    "version": 3
   },
   "file_extension": ".py",
   "mimetype": "text/x-python",
   "name": "python",
   "nbconvert_exporter": "python",
   "pygments_lexer": "ipython3",
   "version": "3.11.7"
  }
 },
 "nbformat": 4,
 "nbformat_minor": 5
}
